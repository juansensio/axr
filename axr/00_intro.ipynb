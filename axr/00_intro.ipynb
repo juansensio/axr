{
 "cells": [
  {
   "cell_type": "markdown",
   "source": [
    "# Introducción"
   ],
   "metadata": {}
  },
  {
   "cell_type": "markdown",
   "source": [
    "El aprendizaje por refuerzo explora una aproximación computacional al aprendizaje por interacción. De la misma manera que cuando aprendemos a conducir estamos atentos a cómo reacciona nuestro entorno a nuestras acciones y buscamos maneras de influenciarlo a través de nuestro comportamiento, el aprendizaje por refuerzo estudia cómo agentes computacionales pueden desarrollar comportamientos inteligentes a través de este tipo de interacción."
   ],
   "metadata": {}
  },
  {
   "cell_type": "markdown",
   "source": [
    "## Aprendizaje por refuerzo\r\n"
   ],
   "metadata": {}
  },
  {
   "cell_type": "markdown",
   "source": [
    "El aprendizaje por refuerzo, de ahora en adelante **axr**, consiste en aprender qué hacer (cómo relacionar situaciones y acciones) con el objetivo de maximizar una recompensa numérica. En ningún momento especificamos qué acciones debe tomar un agente, sino que le dejamos descubrir cuales son las que le darán una mayor recompensa. En la mayoría de situaciones, una acción no solo afectará a la recompensa inmediata, si no que tendrá un efecto en todas las situaciones futuras. Estas dos propiedades, búsqueda por prueba y error y futuras recompensas, son las más importantes del axr.\r\n",
    "\r\n",
    "Para formalizar el problema del axr utilizamos ideas del campo de la teoría de sistemas dinámicos, en concreto el control óptimo de procesos de Markov incompletos. La idea básica consiste en aprender los aspectos más importantes sobre el problema real al que nuestro agente se enfrenta a través de la interacción con el entrono para conseguir su objetivo. El agente tiene que ser capaz de precibir su entorno y de llevar a cabo acciones que afecten a su estado. También necesita uno o varios objetivos relacionados con el estado del entorno. Un proceso de decisión de Markov incluye estos tres aspectos: percepción, acción y objetivo. Cualquier método que sea capaz de resolver este tipo de problemas se considera como un método de axr.\r\n",
    "\r\n",
    "El axr está considerado como un paradigma del *machine learning* diferente al aprendizaje supervisado y no supervisado. Se diferencia del aprendizaje supervisado en que no siempre será posible obtener ejemplos del comportamiento deseado para nuestro agente en cualquier tipo de situación en la que se pueda encontrar, por lo que deberá ser capaz de aprender de su propia experiencia. Por otro lado, se diferencia del aprendizaje no supervisado ya que éste no es capaz por si mismo de resolver el problema de maximización de la recompensa.\r\n",
    "\r\n",
    "El principal problema al que nos enfrentamos en el axr es el balance entre **exploración** y **explotación**. Para obtener la máxima recompensa, un agente podría escoger aquellas acciones que ya conoce que y que le direon buenos resultados. Sin embargo, el hecho de explorar nuevas acciones podría, eventualmente, dar mucho mejor resultado. Así pues, nuestro agente tiene que ser capaz de explotar su conocimiento para obtener recompensa pero también de explorar para descubrir mejores acciones. El problema es que ninguna de las dos aproximaciones puede llevarse a cabo de manera independiente para resolver un problema. Un agente debe probar muchas acciones y, poco a poco, favorecer aquellas que parezcan ser mejores. Este problema sigue sin estar resuelto.\r\n",
    "\r\n",
    "Otra propiedad importante que diferencia al axr de otro métodos es su capacidad de considerar todo el dominio del problema de un agente interactuando con su entrono, y no pequeñas partes o sub-tareas que puedan resolverse de manera independiente para llevar al objetivo final."
   ],
   "metadata": {}
  },
  {
   "cell_type": "markdown",
   "source": [
    "## Ejemplos"
   ],
   "metadata": {}
  },
  {
   "cell_type": "markdown",
   "source": [
    "Algunos ejemplos interesantes de aplicaciones del axr son:\r\n",
    "\r\n",
    "- Agentes que son capaces de jugar a juegos: ajedrez, go, atari, starcraft ...\r\n",
    "- Sistemas de control adaptativo en entornos industriales: refinerías, fábricas, cadenas de montaje, ...\r\n",
    "- Robótica\r\n",
    "- Conducción autónoma: el coche recibe información de su entorno a través de sus cámaras y sensores y ejecuta comandos para acelerar, frenar, girar el volante, ...\r\n",
    "\r\n",
    "Como vemos, todos los ejemplos comparten la existencia de un agente en constante interacción con su entorno para lograr un objetivo (a pesar de la posible incertidumbre). Tomar una decisión puede afectar a las acciones y oportunidades futuras, por lo que la elección de una accion requiere capacidad de planificación y predicción. Además, gracias a su interacción con el entorno, un agente puede adaptarse y aprender constantemente, ajustándose si es necesario para mejorar. De todas las formas de inteligencia computacional, el axr es el que más se asemeja a la forma en la que personas y animales actuamos.\r\n"
   ],
   "metadata": {}
  },
  {
   "cell_type": "markdown",
   "source": [
    "## Elementos del axr\r\n"
   ],
   "metadata": {}
  },
  {
   "cell_type": "markdown",
   "source": [
    "Además del agente y del entorno, existen cuatro subelementos esenciales en un sistema de axr:\r\n",
    "\r\n",
    "- **Política**: define el comportamiento de el agente en cada momento. Relaciona el estado que el agente percibe de su entorno con todas las posibles acciones que puede tomar. Puede ser tan simple como una función o una tabla, o tan complicada como un proceso de búsqueda. La política define completamente el comportamiento de un agente.\r\n",
    "- **Recompensa**: define el objetivo del problema, y es un un valor numérico que en cada momento el entorno envía al agente, el cual tiene el único objetivo de maximizarlo. Es el valor principal a tener en cuenta a la hora de alterar la política de un agente.\r\n",
    "- **Función de valor**: mientras que la recompensa indica la calidad de un estado de manera inmediata, la función de valor indica la calidad a largo plazo. El valor de un estado es la cantidad total de recompensa que un agente espera acumular en el futuro empezando en ese mismo estado. De esta manera, estados con una baja recompensa en relación a otros puede ser preferible si su valor es mayor (los estados futuros a los que nos permite llegar proporcionarán mayor recompensa). Así pues, favoreceremos acciones que impliquen mayor valor sobre recompensas inmediatas. El pricipal problema será estimar estos valores, ya que para ellos nuestro agente deberá explorar de manera repetida el entorno actualizando su información para poder llegar a ser capaz de tomar decisiones con fundamento.\r\n",
    "- **Modelo** del entorno: imita el comportamiento del entorno y sirve para planificar acciones considerando estados futuros que todavía no se han experimentado. El uso de un modelo del entorno nos permite dividir los métodos de axr en métodos sin modelos, en el que un agente aprende por prueba y error (lo opuesto a la planificación) y métodos con modelo, aunque en varias aplicaciones esta línea es un poco difusa ya que se combinan ambas opciones."
   ],
   "metadata": {}
  },
  {
   "cell_type": "markdown",
   "source": [
    "## Ejemplo de aplicación: tres en raya\r\n"
   ],
   "metadata": {}
  },
  {
   "cell_type": "markdown",
   "source": [
    "\r\n",
    "Con el objetivo de ilustrar la idea general del axr vamos a considerar un ejemplo en detalle: el juego del tres en raya. En este juego, dos jugadores se turnan para dibujar una X o una O en un tablero con 3x3 posiciones. El primer jugador en conseguir dibujar tres figuras en una línea horizontal, vertical o diagonal, gana. Nuestro objetivo es conseguir un agente que sea capaz de ganar siempre a este juego.\r\n",
    "\r\n",
    "![](https://camo.githubusercontent.com/9b5f16d0451a8b6faf1ec45a6afbe22f55bbe1f9/68747470733a2f2f7468756d62732e6766796361742e636f6d2f506f697365644772697070696e67466f782d736d616c6c2e676966)"
   ],
   "metadata": {}
  },
  {
   "cell_type": "markdown",
   "source": [
    "Para resolver este juego con axr, en primer lugar definimos una tabla de números, uno por cada posible estado del juego. Cada numero respresentará la probabilidad de ganar el juego desde ese estado, el *valor* del estado. Así pues, la tabla sería la *función de valor*. Un estado $A$ es considerado mejor que un estado $B$ si el valor estimado de la probabilidad de ganar el juego desde $A$ es mayor que desde $B$. Si jugásemos con las Xs, todos los estados con tres X en raya tenría un valor de 1, ya que hemos ganado el juego. De la misma manera, cualquier estado con tres Os en raya tendría un valor de 0, hemos perdido. Para la inicialización de la tabla, podemos establecer el resto de valores en 0.5 (50% de posibilidades de ganar).\r\n",
    "\r\n",
    "Nuestro agente jugará muchas partidas contra un oponente (que puede ser otro agente). En cada turno evaluamos los estados que resultarían de cada posible movimiento (posiciones no ocupadas) y elegimos aquella con un mayor *valor*. Ocasionalmente, elegiremos una acción aleatoria con el objetivo de explorar nuevos movimientos.\r\n",
    "        \r\n",
    "Mientras el agente va jugando, tendremos que actualizar la función de valor. Para ello, después de cada movimiento, cambiaremos el valor del estado del que venimos para que se acerque al valor del estado actual.\r\n",
    "\r\n",
    "$$\r\n",
    "V(S_t) \\leftarrow V(S_t) + \\alpha [V(S_{t+1}) - V(S_t)]\r\n",
    "$$\r\n",
    "      \r\n",
    "donde $S_t$ denote el estado del que venimos, $S_{t+1}$ es el nuevo estado después del movimiento, $V(S_t)$ es el valor del estado $S_t$ y $\\alpha$ es el ratio de aprendizaje."
   ],
   "metadata": {}
  },
  {
   "cell_type": "code",
   "execution_count": 129,
   "source": [
    "import numpy as np\r\n",
    "\r\n",
    "\r\n",
    "class Board():\r\n",
    "    def __init__(self):\r\n",
    "        self.state = np.zeros((3,3))\r\n",
    "\r\n",
    "    def valid_moves(self):\r\n",
    "        return [(i, j) for j in range(3) for i in range(3) if self.state[i, j] == 0]\r\n",
    "\r\n",
    "    def update(self, symbol, row, col):\r\n",
    "        if self.state[row, col] == 0:\r\n",
    "            self.state[row, col] = symbol\r\n",
    "        else:\r\n",
    "            raise ValueError (\"movimiento ilegal !\")\r\n",
    "\r\n",
    "    def is_game_over(self):\r\n",
    "        # comprobar filas y columnas\r\n",
    "        if (self.state.sum(axis=0) == 3).sum() >= 1 or (self.state.sum(axis=1) == 3).sum() >= 1:\r\n",
    "            return 1\r\n",
    "        if (self.state.sum(axis=0) == -3).sum() >= 1 or (self.state.sum(axis=1) == -3).sum() >= 1:\r\n",
    "            return -1 \r\n",
    "        # comprobar diagonales\r\n",
    "        diag_sums = [\r\n",
    "            sum([self.state[i, i] for i in range(3)]),\r\n",
    "            sum([self.state[i, 3 - i - 1] for i in range(3)]),\r\n",
    "        ]\r\n",
    "        if diag_sums[0] == 3 or diag_sums[1] == 3:\r\n",
    "            return 1\r\n",
    "        if diag_sums[0] == -3 or diag_sums[1] == -3:\r\n",
    "            return -1        \r\n",
    "        # empate\r\n",
    "        if len(self.valid_moves()) == 0:\r\n",
    "            return 0\r\n",
    "        # seguir jugando\r\n",
    "        return None\r\n",
    "\r\n",
    "    def reset(self):\r\n",
    "        self.state = np.zeros((3,3))\r\n"
   ],
   "outputs": [],
   "metadata": {}
  },
  {
   "cell_type": "code",
   "execution_count": 144,
   "source": [
    "from tqdm import tqdm \r\n",
    "\r\n",
    "class Game():\r\n",
    "    def __init__(self, player1, player2):\r\n",
    "        player1.symbol = 1\r\n",
    "        player2.symbol = -1\r\n",
    "        self.players = [player1, player2]\r\n",
    "        self.board = Board()\r\n",
    "\r\n",
    "    def selfplay(self, rounds=100):\r\n",
    "        wins = [0, 0]\r\n",
    "        for i in tqdm(range(1, rounds + 1)):\r\n",
    "            self.board.reset()\r\n",
    "            for player in self.players:\r\n",
    "                player.reset()\r\n",
    "            game_over = False\r\n",
    "            while not game_over:\r\n",
    "                for player in self.players:\r\n",
    "                    action = player.move(self.board)\r\n",
    "                    self.board.update(player.symbol, action[0], action[1])\r\n",
    "                    for player in self.players:\r\n",
    "                        player.update(self.board)\r\n",
    "                    if self.board.is_game_over() is not None:\r\n",
    "                        game_over = True\r\n",
    "                        break\r\n",
    "            self.reward()\r\n",
    "            for ix, player in enumerate(self.players):\r\n",
    "                if self.board.is_game_over() == player.symbol: \r\n",
    "                    wins[ix] += 1\r\n",
    "        return wins\r\n",
    "\r\n",
    "\r\n",
    "    def reward(self):\r\n",
    "        winner = self.board.is_game_over()\r\n",
    "        if winner == 0: # empate\r\n",
    "            for player in self.players:\r\n",
    "                player.reward(0.5)\r\n",
    "        else: # le damos 1 recompensa al jugador que gana\r\n",
    "            for player in self.players:\r\n",
    "                if winner == player.symbol:\r\n",
    "                    player.reward(1)\r\n",
    "                else:\r\n",
    "                    player.reward(0)"
   ],
   "outputs": [],
   "metadata": {}
  },
  {
   "cell_type": "code",
   "execution_count": 154,
   "source": [
    "class Agent():\r\n",
    "    def __init__(self, alpha=0.5, prob_exp=0.5):\r\n",
    "        self.value_function = {} # tabla con pares estado -> valor\r\n",
    "        self.alpha = alpha         # learning rate\r\n",
    "        self.positions = []       # guardamos todas las posiciones de la partida\r\n",
    "        self.prob_exp = prob_exp   # probabilidad de explorar\r\n",
    "\r\n",
    "    def reset(self):\r\n",
    "        self.positions = []\r\n",
    "\r\n",
    "    def move(self, board, explore=True):\r\n",
    "        valid_moves = board.valid_moves()\r\n",
    "        # exploracion\r\n",
    "        if explore and np.random.uniform(0, 1) < self.prob_exp:\r\n",
    "            # vamos a una posición aleatoria\r\n",
    "            ix = np.random.choice(len(valid_moves))\r\n",
    "            return valid_moves[ix]\r\n",
    "        # explotacion\r\n",
    "        # vamos a la posición con más valor\r\n",
    "        max_value = -1000\r\n",
    "        for row, col in valid_moves:\r\n",
    "            next_board = board.state.copy()\r\n",
    "            next_board[row, col] = self.symbol\r\n",
    "            next_state = str(next_board.reshape(3*3))\r\n",
    "            value = 0 if self.value_function.get(next_state) is None else self.value_function.get(next_state)\r\n",
    "            if value >= max_value:\r\n",
    "                max_value = value\r\n",
    "                best_row, best_col = row, col\r\n",
    "        return best_row, best_col\r\n",
    "\r\n",
    "    def update(self, board):\r\n",
    "        self.positions.append(str(board.state.reshape(3*3)))\r\n",
    "\r\n",
    "    \r\n",
    "    def reward(self, reward):\r\n",
    "        # al final de la partida (cuando recibimos la recompensa)\r\n",
    "        # iteramos por tods los estados actualizando su valor en la tabla\r\n",
    "        for p in reversed(self.positions):\r\n",
    "            if self.value_function.get(p) is None:\r\n",
    "                self.value_function[p] = 0\r\n",
    "            self.value_function[p] += self.alpha * (reward - self.value_function[p])\r\n",
    "            reward = self.value_function[p]"
   ],
   "outputs": [],
   "metadata": {}
  },
  {
   "cell_type": "code",
   "execution_count": 185,
   "source": [
    "agent1 = Agent(prob_exp=0.5)\r\n",
    "agent2 = Agent()\r\n",
    "\r\n",
    "game = Game(agent1, agent2)\r\n",
    "\r\n",
    "game.selfplay(100000)"
   ],
   "outputs": [
    {
     "output_type": "stream",
     "name": "stderr",
     "text": [
      "100%|██████████| 100000/100000 [04:19<00:00, 385.40it/s]\n"
     ]
    },
    {
     "output_type": "execute_result",
     "data": {
      "text/plain": [
       "[57581, 25309]"
      ]
     },
     "metadata": {},
     "execution_count": 185
    }
   ],
   "metadata": {}
  },
  {
   "cell_type": "code",
   "execution_count": 186,
   "source": [
    "import pandas as pd\r\n",
    "\r\n",
    "funcion_de_valor = sorted(agent1.value_function.items(), key=lambda kv: kv[1], reverse=True)\r\n",
    "tabla = pd.DataFrame({'estado': [x[0] for x in funcion_de_valor], 'valor': [x[1] for x in funcion_de_valor]})\r\n",
    "\r\n",
    "tabla"
   ],
   "outputs": [
    {
     "output_type": "execute_result",
     "data": {
      "text/plain": [
       "                                     estado  valor\n",
       "0     [ 1.  1. -1.  1. -1. -1.  1. -1.  1.]    1.0\n",
       "1     [ 1.  1. -1.  1. -1. -1.  0. -1.  1.]    1.0\n",
       "2     [ 0.  1. -1.  0. -1. -1.  1.  1.  1.]    1.0\n",
       "3     [ 0.  0. -1.  1.  1.  1.  1. -1. -1.]    1.0\n",
       "4     [ 0.  0.  1.  0.  1. -1.  1.  0. -1.]    1.0\n",
       "...                                     ...    ...\n",
       "5470  [ 0. -1. -1.  1.  0.  1. -1.  1.  1.]    0.0\n",
       "5471  [-1.  1.  1. -1. -1.  0.  1.  1.  0.]    0.0\n",
       "5472  [ 1.  1.  0. -1.  0. -1.  1. -1.  1.]    0.0\n",
       "5473  [-1.  1. -1.  0.  0.  1. -1.  1.  1.]    0.0\n",
       "5474  [ 0. -1. -1.  1.  0.  1.  1. -1.  1.]    0.0\n",
       "\n",
       "[5475 rows x 2 columns]"
      ],
      "text/html": [
       "<div>\n",
       "<style scoped>\n",
       "    .dataframe tbody tr th:only-of-type {\n",
       "        vertical-align: middle;\n",
       "    }\n",
       "\n",
       "    .dataframe tbody tr th {\n",
       "        vertical-align: top;\n",
       "    }\n",
       "\n",
       "    .dataframe thead th {\n",
       "        text-align: right;\n",
       "    }\n",
       "</style>\n",
       "<table border=\"1\" class=\"dataframe\">\n",
       "  <thead>\n",
       "    <tr style=\"text-align: right;\">\n",
       "      <th></th>\n",
       "      <th>estado</th>\n",
       "      <th>valor</th>\n",
       "    </tr>\n",
       "  </thead>\n",
       "  <tbody>\n",
       "    <tr>\n",
       "      <th>0</th>\n",
       "      <td>[ 1.  1. -1.  1. -1. -1.  1. -1.  1.]</td>\n",
       "      <td>1.0</td>\n",
       "    </tr>\n",
       "    <tr>\n",
       "      <th>1</th>\n",
       "      <td>[ 1.  1. -1.  1. -1. -1.  0. -1.  1.]</td>\n",
       "      <td>1.0</td>\n",
       "    </tr>\n",
       "    <tr>\n",
       "      <th>2</th>\n",
       "      <td>[ 0.  1. -1.  0. -1. -1.  1.  1.  1.]</td>\n",
       "      <td>1.0</td>\n",
       "    </tr>\n",
       "    <tr>\n",
       "      <th>3</th>\n",
       "      <td>[ 0.  0. -1.  1.  1.  1.  1. -1. -1.]</td>\n",
       "      <td>1.0</td>\n",
       "    </tr>\n",
       "    <tr>\n",
       "      <th>4</th>\n",
       "      <td>[ 0.  0.  1.  0.  1. -1.  1.  0. -1.]</td>\n",
       "      <td>1.0</td>\n",
       "    </tr>\n",
       "    <tr>\n",
       "      <th>...</th>\n",
       "      <td>...</td>\n",
       "      <td>...</td>\n",
       "    </tr>\n",
       "    <tr>\n",
       "      <th>5470</th>\n",
       "      <td>[ 0. -1. -1.  1.  0.  1. -1.  1.  1.]</td>\n",
       "      <td>0.0</td>\n",
       "    </tr>\n",
       "    <tr>\n",
       "      <th>5471</th>\n",
       "      <td>[-1.  1.  1. -1. -1.  0.  1.  1.  0.]</td>\n",
       "      <td>0.0</td>\n",
       "    </tr>\n",
       "    <tr>\n",
       "      <th>5472</th>\n",
       "      <td>[ 1.  1.  0. -1.  0. -1.  1. -1.  1.]</td>\n",
       "      <td>0.0</td>\n",
       "    </tr>\n",
       "    <tr>\n",
       "      <th>5473</th>\n",
       "      <td>[-1.  1. -1.  0.  0.  1. -1.  1.  1.]</td>\n",
       "      <td>0.0</td>\n",
       "    </tr>\n",
       "    <tr>\n",
       "      <th>5474</th>\n",
       "      <td>[ 0. -1. -1.  1.  0.  1.  1. -1.  1.]</td>\n",
       "      <td>0.0</td>\n",
       "    </tr>\n",
       "  </tbody>\n",
       "</table>\n",
       "<p>5475 rows × 2 columns</p>\n",
       "</div>"
      ]
     },
     "metadata": {},
     "execution_count": 186
    }
   ],
   "metadata": {}
  },
  {
   "cell_type": "code",
   "execution_count": 183,
   "source": [
    "import pickle\r\n",
    "\r\n",
    "with open('agente.pickle', 'wb') as handle:\r\n",
    "    pickle.dump(agent1.value_function, handle, protocol=pickle.HIGHEST_PROTOCOL)"
   ],
   "outputs": [],
   "metadata": {}
  },
  {
   "cell_type": "markdown",
   "source": [
    "Este ejemplo sirve para ilustrar algunas de las propiedades clave del axr. En primer lugar, aprender a través de la interacción con el entorno (en este caso el otro agente). En segundo lugar, tenemos un objetivo claro y el comportamiento correcto del agente requiere de planificación y predicción que tenga en cuenta los efectos futuros de sus acciones."
   ],
   "metadata": {}
  },
  {
   "cell_type": "markdown",
   "source": [
    "##  Resumen"
   ],
   "metadata": {}
  },
  {
   "cell_type": "markdown",
   "source": [
    "El aprendizaje por refuerzo es una aproximación computacional a la comprensión y automatización del aprendizaje por objetivos y toma de decisiones. En esta aproximación, una agente aprende a través de la interacción directa con su entorno sin necesidad de supervisión explícita. Utiliza procesos de decisión de Markov para definir la interacción entre el agente y su entorno en términos de estados, acciones y recompensas. Los conceptos de valor y función de valor son la clave de muchos métodos de axr ya que representan una manera eficiente de búsqueda en el espacio de políticas."
   ],
   "metadata": {}
  }
 ],
 "metadata": {
  "orig_nbformat": 4,
  "language_info": {
   "name": "python"
  }
 },
 "nbformat": 4,
 "nbformat_minor": 2
}