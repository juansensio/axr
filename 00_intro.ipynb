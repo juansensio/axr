{
 "cells": [
  {
   "cell_type": "markdown",
   "metadata": {},
   "source": [
    "# Introducción"
   ]
  },
  {
   "cell_type": "markdown",
   "metadata": {},
   "source": [
    "El aprendizaje por refuerzo explora una aproximación *computacional* al aprendizaje por interacción. De la misma manera que cuando aprendemos a conducir estamos atentos a cómo reacciona nuestro entorno a nuestras acciones y buscamos maneras de influenciarlo a través de nuestro comportamiento, el aprendizaje por refuerzo estudia cómo agentes computacionales pueden desarrollar comportamientos inteligentes a través de este tipo de interacción."
   ]
  },
  {
   "cell_type": "markdown",
   "metadata": {},
   "source": [
    "## Aprendizaje por refuerzo"
   ]
  },
  {
   "cell_type": "markdown",
   "metadata": {},
   "source": [
    "El aprendizaje por refuerzo, de ahora en adelante **axr**, consiste en aprender qué hacer (cómo relacionar situaciones y acciones) con el objetivo de maximizar una recompensa numérica. En ningún momento especificamos qué acciones debe tomar un *agente*, sino que le dejamos descubrir cuales son las que le darán una mayor recompensa. En la mayoría de situaciones, una acción no solo afectará a la recompensa inmediata, si no que tendrá un efecto en todas las situaciones futuras. Estas dos propiedades, búsqueda por prueba y error y futuras recompensas, son las más importantes del axr.\n",
    "\n",
    "Para formalizar el problema del axr utilizamos ideas del campo de la teoría de sistemas dinámicos, en concreto el control óptimo de procesos de Markov incompletos. La idea básica consiste en aprender los aspectos más importantes sobre el problema real al que nuestro agente se enfrenta a través de la interacción con el entrono para conseguir su objetivo. El agente tiene que ser capaz de *precibir* su entorno y de llevar a cabo acciones que afecten a su estado. También necesita uno o varios objetivos relacionados con el estados del entorno. Un proceso de decisión de Markov incluyte estos tres aspectos: percepción, acción y objetivo. Cualquier método que sea capaz de resolver este tipo de problemas se considera como un método de axr.\n",
    "\n",
    "El axr está considerado como un paradigma del machine learning diferente al aprendizaje supervisado y no supervisado. Se diferencia del aprendizaje supervisado en que no siempre será posible obtener ejemplos del comportamiento deseado para nuestro agente en cualquier tipo de situación en la que se pueda encontrar, por lo que deberá ser capaz de aprender de su propia experiencia. Por otro lado, se diferencia del aprendizaje no supervisado ya que éste no es capaz por si mismo de resolver el problema de maximización de la recompensa.\n",
    "\n",
    "El principal problema al que nos enfrentamos en el axr es el balance entre **exploración** y **explotación**. Para obtener la máxima recompensa, un agente podría escoger aquellas acciones que ya conoce que y que le direon buenos resultados. Sin embargo, el hecho de explorar nuevas acciones podría, eventualmente, dar mucho mejor resultado. Así pues, nuestro agente tiene que ser capaz de explotar su conocimiento para obtener recompensa pero también de explorar para descubrir mejores acciones. El problema es que ninguna de las dos aproximaciones puede llevarse a cabo de manera independiente para resolver un problema. Un agente debe probar muchas acciones y, poco a poco, favorecer aquellas que parezcan ser mejores. Este problema sigue sin estar resuelto.\n",
    "\n",
    "Otra propiedad importante que diferencia al axr de otro métodos es su capacidad de considerar todo el dominio del problema de un agente interactuando con su entrono, y no pequeñas partes o sub-tareas que puedan resolverse de manera independiente para llevar al objetivo final."
   ]
  },
  {
   "cell_type": "markdown",
   "metadata": {},
   "source": [
    "## Ejemplos"
   ]
  },
  {
   "cell_type": "markdown",
   "metadata": {},
   "source": [
    "Algunos ejemplos interesantes de aplicaciones del axr son:\n",
    "\n",
    "- Agentes que son capaces de jugar a juegos: ajedrez, go, atari, starcraft ...\n",
    "- Sistemas de control adaptativo en entornos industriales: refinerías, fábricas, cadenas de montaje, ...\n",
    "- Robótica\n",
    "- Conducción autónoma: el coche recibe información de su entorno a través de sus cámaras y sensores y ejecuta comandos para acelerar, frenar, girar el volante, ...\n",
    "\n",
    "Como vemos, todos los ejemplos comparten la existencia de un agente en constante interacción con su entorno para lograr un objetivo (a pesar de la posible incertidumbre). Tomar una decisión puede afectar a las acciones y oportunidades futuras, por lo que la elección de una accion requiere capacidad de planificación y predicción. Además, gracias a su interacción con el entorno, un agente puede adaptarse y aprender constantemente, ajustándose si es necesario para mejorar. De todas las formas de inteligencia computacional, el axr es el que más se asemeja a la forma en la que personas y animales actuamos."
   ]
  },
  {
   "cell_type": "markdown",
   "metadata": {},
   "source": [
    "## Elementos del axr"
   ]
  },
  {
   "cell_type": "markdown",
   "metadata": {},
   "source": [
    "Además del *agente* y del *entorno*, existen cuatro subelementos esenciales en un sistema de axr:\n",
    "\n",
    "- **política**: define el comportamiento de el agente en cada momento. Relaciona el estado que el agente percibe de su entorno con todas las posibles acciones que puede tomar. Puede ser tan simple como una función o una tabla, o tan complicada como un proceso de búsqueda. La política define completamente el comportamiento de un agente.\n",
    "- **recompensa**: define el objetivo del problema, y es un un valor numérico que en cada momento el entorno envía al agente, el cual tiene el único objetivo de maximizarlo. Es el valor principal a tener en cuenta a la hora de alterar la política de un agente.\n",
    "- **función de valor**: mientras que la recompensa indica la calidad de un estado de manera inmediata, la función de valor indica la calidad a largo plazo. El *valor* de un estado es la cantidad total de recompensa que un agente espera acumular en el futuro empezando en ese mismo estado. De esta manera, estados con una baja recompensa en relación a otros puede ser preferible si su valor es mayor (los estados futuros a los que nos permite llegar proporcionarán mayor recompensa). Así pues, favoreceremos acciones que impliquen mayor valor sobre recompensas inmediatas. El pricipal problema será estimar estos valores, ya que para ellos nuestro agente deberá explorar de manera repetida el entorno actualizando su información para poder llegar a ser capaz de tomar decisiones con fundamento.\n",
    "- **modelo** del entorno: imita el comportamiento del entorno y sirve para planificar acciones considerando estados futuros que todavía no se han experimentado. El uso de un modelo del entorno nos permite dividir los métodos de axr en métodos sin modelos, en el que un agente aprende por prueba y error  (lo opuesto a la planificación) y métodos con modelo, aunque en varias aplicaciones esta línea es un poco difusa ya que se combinan ambas opciones."
   ]
  },
  {
   "cell_type": "markdown",
   "metadata": {},
   "source": [
    "## Ejemplo de aplicación: tres en raya"
   ]
  },
  {
   "cell_type": "markdown",
   "metadata": {
    "ExecuteTime": {
     "end_time": "2020-03-14T18:35:11.033517Z",
     "start_time": "2020-03-14T18:35:11.025946Z"
    }
   },
   "source": [
    "Con el objetivo de ilustrar la idea general del axr vamos a considerar un ejemplo en detalle: el juego del tres en raya. En este juego, dos jugadores se turnan para dibujar una X o una O en un tablero con 3x3 posiciones. El primer jugador en conseguir dibujar tres figuras en una línea horizontal, vertical u horizontal, gana. Nuestro objetivo es conseguir un agente que sea capaz de ganar siempre a este juego.\n",
    "\n",
    "![](https://thumbs.gfycat.com/PoisedGrippingFox-small.gif)"
   ]
  },
  {
   "cell_type": "code",
   "execution_count": 30,
   "metadata": {
    "ExecuteTime": {
     "end_time": "2020-03-14T20:31:30.223315Z",
     "start_time": "2020-03-14T20:31:30.203319Z"
    },
    "code_folding": [
     2,
     3,
     9,
     15,
     18,
     39,
     54,
     76
    ]
   },
   "outputs": [],
   "source": [
    "import numpy as np\n",
    "\n",
    "class Juego():\n",
    "    def __init__(self, jugador1, jugador2, rondas=100):\n",
    "        self.tabla = np.zeros((3,3))    # tabla vacía\n",
    "        self.jugador1 = jugador1        # agente 1\n",
    "        self.jugador2 = jugador2        # agente 2\n",
    "        self.rondas = rondas\n",
    "    \n",
    "    def mover(self, simbolo, fila, columna):\n",
    "        if self.tabla[fila, columna] == 0:\n",
    "            self.tabla[fila, columna] = simbolo\n",
    "        else:\n",
    "            raise ValueError (\"movimiento ilegal !\")\n",
    "    \n",
    "    def posiciones_disponibles(self):\n",
    "        return [(i, j) for j in range(3) for i in range(3) if self.tabla[i, j] == 0]\n",
    "    \n",
    "    def ganador(self):\n",
    "        # comprobar filas y columnas\n",
    "        if (self.tabla.sum(axis=0) == 3).sum() >= 1 or (self.tabla.sum(axis=1) == 3).sum() >= 1:\n",
    "            return 1\n",
    "        if (self.tabla.sum(axis=0) == -3).sum() >= 1 or (self.tabla.sum(axis=1) == -3).sum() >= 1:\n",
    "            return -1 \n",
    "        # comprobar diagonales\n",
    "        diag_sums = [\n",
    "            sum([self.tabla[i, i] for i in range(3)]),\n",
    "            sum([self.tabla[i, 3 - i - 1] for i in range(3)]),\n",
    "        ]\n",
    "        if diag_sums[0] == 3 or diag_sums[1] == 3:\n",
    "            return 1\n",
    "        if diag_sums[0] == -3 or diag_sums[1] == -3:\n",
    "            return -1        \n",
    "        # empate\n",
    "        if len(self.posiciones_disponibles()) == 0:\n",
    "            return 0\n",
    "        # seguir jugando\n",
    "        return None\n",
    "    \n",
    "    def recompensa(self):\n",
    "        # le damos 1 recompensa al jugador que gana\n",
    "        ganador = self.ganador()\n",
    "        if ganador == 1:\n",
    "            self.jugador1.recompensa(1)\n",
    "            self.jugador2.recompensa(0)\n",
    "        elif ganador == -1:\n",
    "            self.jugador1.recompensa(0)\n",
    "            self.jugador2.recompensa(1)\n",
    "        elif ganador == 0: # emapte\n",
    "            self.jugador1.recompensa(0)\n",
    "            self.jugador2.recompensa(0)\n",
    "        else: # seguir jugando\n",
    "            pass\n",
    "        \n",
    "    def jugar(self):\n",
    "        for i in range(1,self.rondas+1):\n",
    "            self.tabla = np.zeros((3,3))\n",
    "            self.jugador1.posiciones = []\n",
    "            self.jugador2.posiciones = []\n",
    "            while True:\n",
    "                # jugador 1\n",
    "                accion = self.jugador1.mover(self.posiciones_disponibles(), self.tabla, 1)\n",
    "                self.mover(1, accion[0], accion[1])\n",
    "                self.jugador1.posiciones.append(str(self.tabla.reshape(3*3)))\n",
    "                if self.ganador() is not None:\n",
    "                    break\n",
    "                # jugador 2\n",
    "                accion = self.jugador2.mover(self.posiciones_disponibles(), self.tabla, 1)\n",
    "                self.mover(-1, accion[0], accion[1])\n",
    "                self.jugador2.posiciones.append(str(self.tabla.reshape(3*3)))\n",
    "                if self.ganador() is not None:\n",
    "                    break                    \n",
    "            self.recompensa()\n",
    "            \n",
    "    def jugar2(self):\n",
    "        self.tabla = np.zeros((3,3))\n",
    "        while True:\n",
    "            # jugador 1\n",
    "            print(self.tabla)\n",
    "            columna = int(input(\"Columna: \"))\n",
    "            fila = int(input(\"Fila: \"))\n",
    "            self.mover(-1, fila, columna)\n",
    "            if self.ganador() is not None:\n",
    "                break      \n",
    "            # jugador 2\n",
    "            accion = self.jugador1.mover(self.posiciones_disponibles(), self.tabla, 1, explore=False)\n",
    "            self.mover(1, accion[0], accion[1])\n",
    "            if self.ganador() is not None:\n",
    "                break\n",
    "        print(self.tabla)"
   ]
  },
  {
   "cell_type": "markdown",
   "metadata": {},
   "source": [
    "\n",
    "\n",
    "Para resolver este juego con axr, en primer lugar definimos una tabla de números, uno por cada posible estado del juego. Cada numero respresentará la probabilidad de ganar el juego desde ese estado, el *valor* del estado. Así pues, la tabla sería la *función de valor*. Un estado $A$ es considerado mejor que un estado $B$ si el valor estimado de la probabilidad de ganar el juego desde $A$ es mayor que desde $B$. Si jugásemos con las Xs, todos los estados con tres X en raya tenría un valor de 1, ya que hemos ganado el juego. De la misma manera, cualquier estado con tres Os en raya tendría un valor de 0, hemos perdido. Para la inicialización de la tabla, podemos establecer el resto de valores en 0.5 (50% de posibilidades de ganar)."
   ]
  },
  {
   "cell_type": "markdown",
   "metadata": {},
   "source": [
    "Nuestro agente jugará muchas partidas contra un oponente (que puede ser otro agente). En cada turno evaluamos los estados que resultarían de cada posible movimiento (posiciones no ocupadas) y elegimos aquella con un mayor *valor*. Ocasionalmente, elegiremos una acción aleatoria con el obnjetivo de explorar nuevos movimientos.\n",
    "\n",
    "Mientras el agente va jugando, tendremos que actualizar la función de valor. Para ello, después de cada movimiento, cambiaremos el valor del estado del que venimos para que se acerque al valor del estado actual.\n",
    "\n",
    "\\begin{equation}\n",
    "    V(S_t) \\leftarrow V(S_t) + \\alpha [V(S_{t+1}) - V(S_t)]\n",
    "\\end{equation}\n",
    "\n",
    "donde $S_t$ denote el estado del que venimos, $S_{t+1}$ es el nuevo estado después del movimiento, $V(S_t)$ es el valor del estado $S_t$ y $\\alpha$ es el ratio de aprendizaje."
   ]
  },
  {
   "cell_type": "code",
   "execution_count": 31,
   "metadata": {
    "ExecuteTime": {
     "end_time": "2020-03-14T20:31:30.827818Z",
     "start_time": "2020-03-14T20:31:30.818818Z"
    },
    "code_folding": [
     0,
     1,
     7,
     9,
     26
    ]
   },
   "outputs": [],
   "source": [
    "class Agente():\n",
    "    def __init__(self, alpha=0.2, prob_exp=0.3):\n",
    "        self.funcion_de_valor = {} # tabla con pares estado -> valor\n",
    "        self.alpha = alpha         # learning rate\n",
    "        self.posiciones = []       # guardamos todas las posiciones de la partida\n",
    "        self.prob_exp = prob_exp   # probabilidad de explorar\n",
    "        \n",
    "    def mover(self, posicions_disponibles, tabla, simbolo, explore=True):\n",
    "        # exploracion\n",
    "        if explore and np.random.uniform(0, 1) < self.prob_exp:\n",
    "            # vamos a una posición aleatoria\n",
    "            ix = np.random.choice(len(posicions_disponibles))\n",
    "            return posicions_disponibles[ix]\n",
    "        # explotacion\n",
    "        # vamos a la posición con más valor\n",
    "        valor_max = -1000\n",
    "        for fila, columna in posicions_disponibles:\n",
    "            siguiente_tabla = tabla.copy()\n",
    "            siguiente_tabla[fila, columna] = simbolo\n",
    "            estado = str(siguiente_tabla.reshape(3*3))\n",
    "            valor = 0 if self.funcion_de_valor.get(estado) is None else self.funcion_de_valor.get(estado)\n",
    "            if valor >= valor_max:\n",
    "                valor_max = valor\n",
    "                mejor_fila, mejor_columna = fila, columna\n",
    "        return mejor_fila, mejor_columna\n",
    "    \n",
    "    def recompensa(self, recompensa):\n",
    "        # al final de la partida (cuando recibimos la recompensa)\n",
    "        # iteramos por tods los estados actualizando su valor en la tabla\n",
    "        for p in reversed(self.posiciones):\n",
    "            if self.funcion_de_valor.get(p) is None:\n",
    "                self.funcion_de_valor[p] = 0\n",
    "            self.funcion_de_valor[p] += self.alpha * (recompensa - self.funcion_de_valor[p])\n",
    "            recompensa = self.funcion_de_valor[p]"
   ]
  },
  {
   "cell_type": "code",
   "execution_count": 32,
   "metadata": {
    "ExecuteTime": {
     "end_time": "2020-03-14T20:31:46.999899Z",
     "start_time": "2020-03-14T20:31:31.093799Z"
    }
   },
   "outputs": [],
   "source": [
    "agente1 = Agente()\n",
    "agente2 = Agente()\n",
    "\n",
    "juego = Juego(agente1, agente2, rondas=5000)\n",
    "\n",
    "juego.jugar()"
   ]
  },
  {
   "cell_type": "code",
   "execution_count": 33,
   "metadata": {
    "ExecuteTime": {
     "end_time": "2020-03-14T20:31:47.009904Z",
     "start_time": "2020-03-14T20:31:47.000899Z"
    }
   },
   "outputs": [
    {
     "data": {
      "text/html": [
       "<div>\n",
       "<style scoped>\n",
       "    .dataframe tbody tr th:only-of-type {\n",
       "        vertical-align: middle;\n",
       "    }\n",
       "\n",
       "    .dataframe tbody tr th {\n",
       "        vertical-align: top;\n",
       "    }\n",
       "\n",
       "    .dataframe thead th {\n",
       "        text-align: right;\n",
       "    }\n",
       "</style>\n",
       "<table border=\"1\" class=\"dataframe\">\n",
       "  <thead>\n",
       "    <tr style=\"text-align: right;\">\n",
       "      <th></th>\n",
       "      <th>estado</th>\n",
       "      <th>valor</th>\n",
       "    </tr>\n",
       "  </thead>\n",
       "  <tbody>\n",
       "    <tr>\n",
       "      <th>0</th>\n",
       "      <td>[ 0.  0. -1.  0.  0. -1.  1.  1.  1.]</td>\n",
       "      <td>1.0</td>\n",
       "    </tr>\n",
       "    <tr>\n",
       "      <th>1</th>\n",
       "      <td>[ 1.  0.  0.  1.  0. -1.  1.  0. -1.]</td>\n",
       "      <td>1.0</td>\n",
       "    </tr>\n",
       "    <tr>\n",
       "      <th>2</th>\n",
       "      <td>[ 1.  0. -1.  0.  1. -1.  0.  0.  1.]</td>\n",
       "      <td>1.0</td>\n",
       "    </tr>\n",
       "    <tr>\n",
       "      <th>3</th>\n",
       "      <td>[ 1.  1.  1.  0.  0. -1.  0.  0. -1.]</td>\n",
       "      <td>1.0</td>\n",
       "    </tr>\n",
       "    <tr>\n",
       "      <th>4</th>\n",
       "      <td>[ 0. -1.  1.  0.  1. -1.  1. -1.  1.]</td>\n",
       "      <td>1.0</td>\n",
       "    </tr>\n",
       "    <tr>\n",
       "      <th>5</th>\n",
       "      <td>[ 0.  0.  0.  0. -1. -1.  1.  1.  1.]</td>\n",
       "      <td>1.0</td>\n",
       "    </tr>\n",
       "    <tr>\n",
       "      <th>6</th>\n",
       "      <td>[ 1.  0. -1.  1.  0. -1.  1. -1.  1.]</td>\n",
       "      <td>1.0</td>\n",
       "    </tr>\n",
       "    <tr>\n",
       "      <th>7</th>\n",
       "      <td>[-1.  0.  0.  0.  0. -1.  1.  1.  1.]</td>\n",
       "      <td>1.0</td>\n",
       "    </tr>\n",
       "    <tr>\n",
       "      <th>8</th>\n",
       "      <td>[ 0.  1.  0.  0.  1. -1.  0.  1. -1.]</td>\n",
       "      <td>1.0</td>\n",
       "    </tr>\n",
       "    <tr>\n",
       "      <th>9</th>\n",
       "      <td>[ 0.  0.  0. -1.  0. -1.  1.  1.  1.]</td>\n",
       "      <td>1.0</td>\n",
       "    </tr>\n",
       "  </tbody>\n",
       "</table>\n",
       "</div>"
      ],
      "text/plain": [
       "                                  estado  valor\n",
       "0  [ 0.  0. -1.  0.  0. -1.  1.  1.  1.]    1.0\n",
       "1  [ 1.  0.  0.  1.  0. -1.  1.  0. -1.]    1.0\n",
       "2  [ 1.  0. -1.  0.  1. -1.  0.  0.  1.]    1.0\n",
       "3  [ 1.  1.  1.  0.  0. -1.  0.  0. -1.]    1.0\n",
       "4  [ 0. -1.  1.  0.  1. -1.  1. -1.  1.]    1.0\n",
       "5  [ 0.  0.  0.  0. -1. -1.  1.  1.  1.]    1.0\n",
       "6  [ 1.  0. -1.  1.  0. -1.  1. -1.  1.]    1.0\n",
       "7  [-1.  0.  0.  0.  0. -1.  1.  1.  1.]    1.0\n",
       "8  [ 0.  1.  0.  0.  1. -1.  0.  1. -1.]    1.0\n",
       "9  [ 0.  0.  0. -1.  0. -1.  1.  1.  1.]    1.0"
      ]
     },
     "execution_count": 33,
     "metadata": {},
     "output_type": "execute_result"
    }
   ],
   "source": [
    "import pandas as pd\n",
    "\n",
    "funcion_de_valor = sorted(agente1.funcion_de_valor.items(), key=lambda kv: kv[1], reverse=True)\n",
    "tabla = pd.DataFrame({'estado': [x[0] for x in funcion_de_valor], 'valor': [x[1] for x in funcion_de_valor]})\n",
    "tabla[:10]"
   ]
  },
  {
   "cell_type": "markdown",
   "metadata": {},
   "source": [
    "Ahora podemos probar a jugar contra el agente a ver cómo se comporta."
   ]
  },
  {
   "cell_type": "code",
   "execution_count": 34,
   "metadata": {
    "ExecuteTime": {
     "end_time": "2020-03-14T20:32:21.492484Z",
     "start_time": "2020-03-14T20:31:47.010901Z"
    }
   },
   "outputs": [
    {
     "name": "stdout",
     "output_type": "stream",
     "text": [
      "[[0. 0. 0.]\n",
      " [0. 0. 0.]\n",
      " [0. 0. 0.]]\n",
      "Columna: 1\n",
      "Fila: 1\n",
      "[[ 0.  0.  0.]\n",
      " [ 0. -1.  0.]\n",
      " [ 0.  0.  1.]]\n",
      "Columna: 0\n",
      "Fila: 1\n",
      "[[ 0.  0.  0.]\n",
      " [-1. -1.  1.]\n",
      " [ 0.  0.  1.]]\n",
      "Columna: 2\n",
      "Fila: 0\n",
      "[[ 0.  0. -1.]\n",
      " [-1. -1.  1.]\n",
      " [ 0.  1.  1.]]\n",
      "Columna: 0\n",
      "Fila: 2\n",
      "[[ 0.  0. -1.]\n",
      " [-1. -1.  1.]\n",
      " [-1.  1.  1.]]\n"
     ]
    }
   ],
   "source": [
    "juego.jugar2()"
   ]
  },
  {
   "cell_type": "markdown",
   "metadata": {},
   "source": [
    "Este ejemplo sirve para ilustrar algunas de las propiedades clave del axr. En primer lugar, aprender a través de la interacción con el entorno (en este caso el otro agente). En segundo lugar, tenemos un objetivo claro y el comportamiento correcto del agente requiere de planificación y predicción que tenga en cuenta los efectos futuros de sus acciones."
   ]
  },
  {
   "cell_type": "markdown",
   "metadata": {},
   "source": [
    "## Resumen"
   ]
  },
  {
   "cell_type": "markdown",
   "metadata": {},
   "source": [
    "El aprendizaje por refuerzo es una aproximación computacional a la comprensión y automatización del aprendizaje por objetivos y toma de decisiones. En esta aproximación, una agente aprende a través de la interacción directa con su entorno sin necesidad de supervisión explícita. Utiliza procesos de decisión de Markov para definir la interacción entre el agente y su entorno en términos del estado"
   ]
  },
  {
   "cell_type": "markdown",
   "metadata": {},
   "source": [
    "## Historia"
   ]
  },
  {
   "cell_type": "code",
   "execution_count": 35,
   "metadata": {
    "ExecuteTime": {
     "end_time": "2020-03-14T20:37:56.625727Z",
     "start_time": "2020-03-14T20:37:56.621812Z"
    }
   },
   "outputs": [],
   "source": [
    "# TODO"
   ]
  }
 ],
 "metadata": {
  "kernelspec": {
   "display_name": "Python 3",
   "language": "python",
   "name": "python3"
  },
  "language_info": {
   "codemirror_mode": {
    "name": "ipython",
    "version": 3
   },
   "file_extension": ".py",
   "mimetype": "text/x-python",
   "name": "python",
   "nbconvert_exporter": "python",
   "pygments_lexer": "ipython3",
   "version": "3.7.4"
  },
  "toc": {
   "base_numbering": 1,
   "nav_menu": {},
   "number_sections": true,
   "sideBar": true,
   "skip_h1_title": false,
   "title_cell": "Table of Contents",
   "title_sidebar": "Contents",
   "toc_cell": false,
   "toc_position": {},
   "toc_section_display": true,
   "toc_window_display": false
  }
 },
 "nbformat": 4,
 "nbformat_minor": 4
}
